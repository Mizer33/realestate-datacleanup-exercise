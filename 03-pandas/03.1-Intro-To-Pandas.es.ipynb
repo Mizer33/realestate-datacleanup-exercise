{
  "cells": [
    {
      "cell_type": "markdown",
      "id": "bdfbcacc",
      "metadata": {
        "id": "bdfbcacc"
      },
      "source": [
        "![Pandas logo](https://github.com/4GeeksAcademy/machine-learning-prework/blob/main/03-pandas/assets/pandas_logo.png?raw=true)\n",
        "\n",
        "## Introducción a Pandas\n",
        "\n",
        "**Pandas** es una librería de código abierto que proporciona estructuras de datos y está diseñado para manejar y analizar datos tabulares en Python. Pandas se basa en NumPy, lo que le permite integrarse bien en el ecosistema de la ciencia de los datos junto a otras librerías como `Scikit-learn` y `Matplotlib`.\n",
        "\n",
        "En concreto, los puntos clave de esta librería son:\n",
        "\n",
        "- **Estructuras de datos**: Esta librería proporciona dos estructuras para trabajar con datos. Estos son las `Series` que son arrays unidimensionales etiquetados, similares a un vector, lista o secuencia y que es capaz de contener cualquier tipo de datos, y los `DataFrames`, que es una estructura bidimensional etiquetada con columnas que pueden ser de diferentes tipos, similar a una hoja de cálculo o a una tabla SQL.\n",
        "- **Manipulación de datos**: Pandas permite llevar a cabo un exhaustivo análisis de datos a través de funciones que pueden aplicarse directamente sobre sus estructuras de datos. Estas operaciones incluyen control de datos faltantes, filtrado de datos, fusión, combinación y unión de datos de diferentes fuentes...\n",
        "- **Eficiencia**: Todas las operaciones y/o funciones que se apliquen sobre las estructuras de datos son vectorizadas para mejorar el rendimiento en comparación con los bucles tradicionales e iteradores de Python.\n",
        "\n",
        "Pandas es una herramienta fundamental para cualquier desarrollador que trabaje con datos en Python, ya que proporciona una amplia variedad de herramientas para la exploración, limpieza y transformación de datos, haciendo que el proceso de análisis sea más eficiente y efectivo."
      ]
    },
    {
      "cell_type": "markdown",
      "id": "40631cd6",
      "metadata": {
        "id": "40631cd6"
      },
      "source": [
        "### Estructuras de datos\n",
        "\n",
        "Pandas proporciona dos estructuras de datos principales: `Series` y `DataFrames`.\n",
        "\n",
        "#### Series\n",
        "\n",
        "Una **serie** en Pandas es una estructura de datos unidimensional etiquetada. Es similar a un array de 1D de NumPy, pero tiene un índice que permite el acceso a los valores por etiqueta. Una serie puede contener cualquier tipo de datos: enteros, cadenas, objetos de Python...\n",
        "\n",
        "![Ejemplo de Serie](https://github.com/4GeeksAcademy/machine-learning-prework/blob/main/03-pandas/assets/series.PNG?raw=true)\n",
        "\n",
        "Una serie en Pandas tiene dos partes diferenciadas:\n",
        "\n",
        "- **Índice** (*index*): Un array de etiquetas asociado a los datos.\n",
        "- **Valor** (*value*): Un array de datos.\n",
        "\n",
        "Una serie puede ser creada utilizando la clase `Series` de la librería con una lista de elementos como argumento. Por ejemplo:"
      ]
    },
    {
      "cell_type": "code",
      "execution_count": null,
      "id": "21653d4f",
      "metadata": {
        "id": "21653d4f",
        "outputId": "a809d62c-5f50-4878-affa-7b9296b29cd0"
      },
      "outputs": [
        {
          "data": {
            "text/plain": [
              "0    1\n",
              "1    2\n",
              "2    3\n",
              "3    4\n",
              "4    5\n",
              "dtype: int64"
            ]
          },
          "execution_count": 1,
          "metadata": {},
          "output_type": "execute_result"
        }
      ],
      "source": [
        "import pandas as pd\n",
        "\n",
        "serie = pd.Series([1, 2, 3, 4, 5])\n",
        "serie"
      ]
    },
    {
      "cell_type": "markdown",
      "id": "d1c2dda1",
      "metadata": {
        "id": "d1c2dda1"
      },
      "source": [
        "Esto creará una serie con los elementos 1, 2, 3, 4 y 5. Además, al no haber incluido información sobre los índices, se genera uno automático empezando en 0. Si quisiéramos crear una nueva serie con un índice concreto se programaría como sigue:"
      ]
    },
    {
      "cell_type": "code",
      "execution_count": null,
      "id": "2d4c091d",
      "metadata": {
        "id": "2d4c091d",
        "outputId": "1ee6cc83-9c61-4ee1-c99d-0dacccb24369"
      },
      "outputs": [
        {
          "data": {
            "text/plain": [
              "a    1\n",
              "b    2\n",
              "c    3\n",
              "d    4\n",
              "e    5\n",
              "dtype: int64"
            ]
          },
          "execution_count": 2,
          "metadata": {},
          "output_type": "execute_result"
        }
      ],
      "source": [
        "serie = pd.Series([1, 2, 3, 4, 5], index = [\"a\", \"b\", \"c\", \"d\", \"e\"])\n",
        "serie"
      ]
    },
    {
      "cell_type": "markdown",
      "id": "f7588c91",
      "metadata": {
        "id": "f7588c91"
      },
      "source": [
        "De esta forma, la serie anterior tiene un índice compuesto por letras.\n",
        "\n",
        "Ambas series almacenan los mismos valores, pero la forma en la que se accede puede variar según el índice.\n",
        "\n",
        "En una serie se puede acceder a sus elementos por índice o por posición (esto último es lo que hacíamos en NumPy). A continuación se muestran algunas operaciones que se pueden realizar utilizando la serie anterior:"
      ]
    },
    {
      "cell_type": "code",
      "execution_count": null,
      "id": "0f90b9e7",
      "metadata": {
        "id": "0f90b9e7",
        "outputId": "ecd81fbb-a527-4341-913d-be91d7643760"
      },
      "outputs": [
        {
          "name": "stdout",
          "output_type": "stream",
          "text": [
            "3\n",
            "3\n",
            "a    1\n",
            "b    7\n",
            "c    3\n",
            "d    4\n",
            "e    5\n",
            "dtype: int64\n",
            "a    11\n",
            "b    17\n",
            "c    13\n",
            "d    14\n",
            "e    15\n",
            "dtype: int64\n",
            "70\n"
          ]
        }
      ],
      "source": [
        "# Acceder al tercer elemento\n",
        "print(serie[\"c\"]) # Por índice\n",
        "print(serie[2]) # Por posición\n",
        "\n",
        "# Cambiar el valor del segundo elemento\n",
        "serie[\"b\"] = 7\n",
        "print(serie)\n",
        "\n",
        "# Sumar 10 a todos los elementos\n",
        "serie += 10\n",
        "print(serie)\n",
        "\n",
        "# Calcular la suma de los elementos\n",
        "sum_all = serie.sum()\n",
        "print(sum_all)"
      ]
    },
    {
      "cell_type": "markdown",
      "id": "e4fe3649",
      "metadata": {
        "id": "e4fe3649"
      },
      "source": [
        "#### DataFrame\n",
        "\n",
        "Un **DataFrame** en Pandas es una estructura de datos bidimensional etiquetada. Es similar a un array de 2D de NumPy, pero tiene un índice que permite el acceso a los valores por etiqueta por fila y columna.\n",
        "\n",
        "![Ejemplo de DataFrame](https://github.com/4GeeksAcademy/machine-learning-prework/blob/main/03-pandas/assets/dataframe.PNG?raw=true)\n",
        "\n",
        "Un DataFrame en Pandas tiene varias partes diferenciadas:\n",
        "\n",
        "- **Datos** (*data*): Una matriz de valores y que pueden ser de distinto tipo por columna.\n",
        "- **Índice de fila** (*row index*): Un array de etiquetas asociado a las filas.\n",
        "- **Índice de columna** (*column index*): Un array de etiquetas asociado a las columnas.\n",
        "\n",
        "Un DataFrame puede verse como un conjunto de series unidas en una estructura tabular, con un índice por fila en común y un índice de columna propio de cada serie.\n",
        "\n",
        "![Series y DataFrame](https://github.com/4GeeksAcademy/machine-learning-prework/blob/main/03-pandas/assets/series_dataframe.png?raw=true?raw=true)\n",
        "\n",
        "Un DataFrame puede ser creado utilizando la clase `DataFrame`. Por ejemplo:"
      ]
    },
    {
      "cell_type": "code",
      "execution_count": null,
      "id": "3947a09a",
      "metadata": {
        "id": "3947a09a",
        "outputId": "3043a95f-f422-4253-e4c0-a969faccc98d"
      },
      "outputs": [
        {
          "data": {
            "text/html": [
              "<div>\n",
              "<style scoped>\n",
              "    .dataframe tbody tr th:only-of-type {\n",
              "        vertical-align: middle;\n",
              "    }\n",
              "\n",
              "    .dataframe tbody tr th {\n",
              "        vertical-align: top;\n",
              "    }\n",
              "\n",
              "    .dataframe thead th {\n",
              "        text-align: right;\n",
              "    }\n",
              "</style>\n",
              "<table border=\"1\" class=\"dataframe\">\n",
              "  <thead>\n",
              "    <tr style=\"text-align: right;\">\n",
              "      <th></th>\n",
              "      <th>0</th>\n",
              "      <th>1</th>\n",
              "      <th>2</th>\n",
              "    </tr>\n",
              "  </thead>\n",
              "  <tbody>\n",
              "    <tr>\n",
              "      <th>0</th>\n",
              "      <td>1</td>\n",
              "      <td>2</td>\n",
              "      <td>3</td>\n",
              "    </tr>\n",
              "    <tr>\n",
              "      <th>1</th>\n",
              "      <td>4</td>\n",
              "      <td>5</td>\n",
              "      <td>6</td>\n",
              "    </tr>\n",
              "    <tr>\n",
              "      <th>2</th>\n",
              "      <td>7</td>\n",
              "      <td>8</td>\n",
              "      <td>9</td>\n",
              "    </tr>\n",
              "  </tbody>\n",
              "</table>\n",
              "</div>"
            ],
            "text/plain": [
              "   0  1  2\n",
              "0  1  2  3\n",
              "1  4  5  6\n",
              "2  7  8  9"
            ]
          },
          "execution_count": 4,
          "metadata": {},
          "output_type": "execute_result"
        }
      ],
      "source": [
        "dataframe = pd.DataFrame([[1, 2, 3], [4, 5, 6], [7, 8, 9]])\n",
        "dataframe"
      ]
    },
    {
      "cell_type": "markdown",
      "id": "ccf0e435",
      "metadata": {
        "id": "ccf0e435"
      },
      "source": [
        "Esto creará un DataFrame con tres filas y tres columnas cada fila. Al igual que sucedía con las series, un DataFrame generará índices automáticos para filas y columnas si no se pasan como argumento en el constructor de la clase. Si quisiéramos crear un nuevo DataFrame con índices concretos para filas y columnas se programaría como sigue:"
      ]
    },
    {
      "cell_type": "code",
      "execution_count": null,
      "id": "92f62a5c",
      "metadata": {
        "id": "92f62a5c",
        "outputId": "28ddb175-9c00-4f6f-8dc8-9f4dae10bf69"
      },
      "outputs": [
        {
          "data": {
            "text/html": [
              "<div>\n",
              "<style scoped>\n",
              "    .dataframe tbody tr th:only-of-type {\n",
              "        vertical-align: middle;\n",
              "    }\n",
              "\n",
              "    .dataframe tbody tr th {\n",
              "        vertical-align: top;\n",
              "    }\n",
              "\n",
              "    .dataframe thead th {\n",
              "        text-align: right;\n",
              "    }\n",
              "</style>\n",
              "<table border=\"1\" class=\"dataframe\">\n",
              "  <thead>\n",
              "    <tr style=\"text-align: right;\">\n",
              "      <th></th>\n",
              "      <th>col A</th>\n",
              "      <th>col B</th>\n",
              "      <th>col C</th>\n",
              "    </tr>\n",
              "  </thead>\n",
              "  <tbody>\n",
              "    <tr>\n",
              "      <th>a</th>\n",
              "      <td>1</td>\n",
              "      <td>4</td>\n",
              "      <td>7</td>\n",
              "    </tr>\n",
              "    <tr>\n",
              "      <th>b</th>\n",
              "      <td>2</td>\n",
              "      <td>5</td>\n",
              "      <td>8</td>\n",
              "    </tr>\n",
              "    <tr>\n",
              "      <th>c</th>\n",
              "      <td>3</td>\n",
              "      <td>6</td>\n",
              "      <td>9</td>\n",
              "    </tr>\n",
              "  </tbody>\n",
              "</table>\n",
              "</div>"
            ],
            "text/plain": [
              "   col A  col B  col C\n",
              "a      1      4      7\n",
              "b      2      5      8\n",
              "c      3      6      9"
            ]
          },
          "execution_count": 5,
          "metadata": {},
          "output_type": "execute_result"
        }
      ],
      "source": [
        "data = {\n",
        "    \"col A\": [1, 2, 3],\n",
        "    \"col B\": [4, 5, 6],\n",
        "    \"col C\": [7, 8, 9]\n",
        "}\n",
        "\n",
        "dataframe = pd.DataFrame(data, index = [\"a\", \"b\", \"c\"])\n",
        "dataframe"
      ]
    },
    {
      "cell_type": "markdown",
      "id": "758e57bd",
      "metadata": {
        "id": "758e57bd"
      },
      "source": [
        "De esta forma se proporciona un índice personalizado para las columnas (etiquetando las filas dentro de un diccionario) y para las filas (con el argumento `index` tal y como sucedía con las series).\n",
        "\n",
        "En un DataFrame se puede acceder a sus elementos por índice o por posición. A continuación se muestran algunas operaciones que se pueden realizar utilizando el DataFrame anterior:"
      ]
    },
    {
      "cell_type": "code",
      "execution_count": null,
      "id": "258c47ff",
      "metadata": {
        "id": "258c47ff",
        "outputId": "d8e89aeb-0dc6-4bff-861f-ec0f34efadae"
      },
      "outputs": [
        {
          "name": "stdout",
          "output_type": "stream",
          "text": [
            "a    1\n",
            "b    2\n",
            "c    3\n",
            "Name: col A, dtype: int64\n",
            "a    1\n",
            "b    2\n",
            "c    3\n",
            "Name: col A, dtype: int64\n",
            "a    1\n",
            "b    2\n",
            "c    3\n",
            "Name: col A, dtype: int64\n",
            "col A    1\n",
            "col B    4\n",
            "col C    7\n",
            "Name: a, dtype: int64\n",
            "col A    1\n",
            "col B    4\n",
            "col C    7\n",
            "Name: a, dtype: int64\n",
            "1\n",
            "1\n",
            "   col A  col B  col C  col D\n",
            "a      1      4      7     10\n",
            "b      2      5      8     11\n",
            "c      3      6      9     12\n",
            "   col A  col B  col C  col D\n",
            "a      1      4      7     10\n",
            "b      2      5      8     11\n",
            "c      3      6      9     12\n",
            "d     13     14     15     16\n",
            "   col A  col B  col C  col D\n",
            "a     10      4      7     10\n",
            "b     20      5      8     11\n",
            "c     30      6      9     12\n",
            "d    130     14     15     16\n",
            "col A    190\n",
            "col B     29\n",
            "col C     39\n",
            "col D     49\n",
            "dtype: int64\n"
          ]
        }
      ],
      "source": [
        "# Acceder a todos los datos de una columna\n",
        "print(dataframe[\"col A\"]) # Por índice\n",
        "print(dataframe.loc[:,\"col A\"]) # Por índice\n",
        "print(dataframe.iloc[:,0]) # Por posición\n",
        "\n",
        "# Acceder a todos los datos de una fila\n",
        "print(dataframe.loc[\"a\"]) # Por índice\n",
        "print(dataframe.iloc[0]) # Por posición\n",
        "\n",
        "# Acceder a un elemento (fila, columna) concreto\n",
        "print(dataframe.loc[\"a\", \"col A\"]) # Por índice\n",
        "print(dataframe.iloc[0, 0]) # Por posición\n",
        "\n",
        "# Crear una nueva columna\n",
        "dataframe[\"col D\"] = [10, 11, 12]\n",
        "print(dataframe)\n",
        "\n",
        "# Crear una nueva fila\n",
        "dataframe.loc[\"d\"] = [13, 14, 15, 16]\n",
        "print(dataframe)\n",
        "\n",
        "# Multiplicar por 10 los elementos de una columna\n",
        "dataframe[\"col A\"] *= 10\n",
        "print(dataframe)\n",
        "\n",
        "# Calcular la suma de todos los elementos\n",
        "sum_all = dataframe.sum()\n",
        "print(sum_all)"
      ]
    },
    {
      "cell_type": "markdown",
      "id": "1ac3bdaa",
      "metadata": {
        "id": "1ac3bdaa"
      },
      "source": [
        "### Funciones\n",
        "\n",
        "Pandas proporciona una gran cantidad de funciones predefinidas y que se pueden aplicar sobre las estructuras de datos vistas anteriormente. Algunas de las más utilizadas en el análisis de datos son:"
      ]
    },
    {
      "cell_type": "code",
      "execution_count": null,
      "id": "9a54370c",
      "metadata": {
        "id": "9a54370c",
        "outputId": "c016e66f-b2bc-437b-8392-96ebd514f76b"
      },
      "outputs": [
        {
          "name": "stdout",
          "output_type": "stream",
          "text": [
            "Suma de series: 0    5\n",
            "1    7\n",
            "2    9\n",
            "dtype: int64\n",
            "Suma de DataFrames:     0   1   2\n",
            "0   8  10  12\n",
            "1  14  16  18\n",
            "Media: 2.0\n",
            "Mediana: 2.0\n",
            "Número de elementos: 3\n",
            "Desviación estándar: 1.0\n",
            "Varianza: 1.0\n",
            "Máximo valor: 3\n",
            "Mínimo valor: 1\n",
            "Correlación: 1.0\n",
            "Resumen estadístico: count    3.0\n",
            "mean     2.0\n",
            "std      1.0\n",
            "min      1.0\n",
            "25%      1.5\n",
            "50%      2.0\n",
            "75%      2.5\n",
            "max      3.0\n",
            "dtype: float64\n"
          ]
        }
      ],
      "source": [
        "import pandas as pd\n",
        "\n",
        "s1 = pd.Series([1, 2, 3])\n",
        "s2 = pd.Series([4, 5, 6])\n",
        "d1 = pd.DataFrame([[1, 2, 3], [4, 5, 6]])\n",
        "d2 = pd.DataFrame([[7, 8, 9], [10, 11, 12]])\n",
        "\n",
        "# Operaciones Aritméticas\n",
        "print(\"Suma de series:\", s1.add(s2))\n",
        "print(\"Suma de DataFrames:\", d1.add(d2))\n",
        "\n",
        "# Operaciones Estadísticas\n",
        "# Se pueden aplicar de igual forma a los DataFrames\n",
        "print(\"Media:\", s1.mean())\n",
        "print(\"Mediana:\", s1.median())\n",
        "print(\"Número de elementos:\", s1.count())\n",
        "print(\"Desviación estándar:\", s1.std())\n",
        "print(\"Varianza:\", s1.var())\n",
        "print(\"Máximo valor:\", s1.max())\n",
        "print(\"Mínimo valor:\", s1.min())\n",
        "print(\"Correlación:\", s1.corr(s2))\n",
        "print(\"Resumen estadístico:\", s1.describe())"
      ]
    },
    {
      "cell_type": "markdown",
      "id": "1837dc19",
      "metadata": {
        "id": "1837dc19"
      },
      "source": [
        "#### Funciones personalizadas\n",
        "\n",
        "Además de las funciones predefinidas de Pandas, también se pueden definir y aplicar otras a las estructuras de datos. Para ello, tenemos que programar la función para que reciba un valor (o una columna o fila en el caso de un DataFrame) y devuelva otro modificado, y referenciarla con `apply`.\n",
        "\n",
        "Además, esta función permite utilizar **expresiones lambda** (*lambda expressions*) para la declaración anónima de funciones.\n",
        "\n",
        "A continuación se muestra cómo aplicar funciones a las series:"
      ]
    },
    {
      "cell_type": "code",
      "execution_count": null,
      "id": "282d22bb",
      "metadata": {
        "id": "282d22bb",
        "outputId": "a050dbb2-7702-48be-b1b5-bdb7da1c6a21"
      },
      "outputs": [
        {
          "name": "stdout",
          "output_type": "stream",
          "text": [
            "0     1\n",
            "1     4\n",
            "2     9\n",
            "3    16\n",
            "dtype: int64\n",
            "0     1\n",
            "1     4\n",
            "2     9\n",
            "3    16\n",
            "dtype: int64\n"
          ]
        }
      ],
      "source": [
        "import pandas as pd\n",
        "s = pd.Series([1, 2, 3, 4])\n",
        "\n",
        "# Definición explícita de la función\n",
        "def squared(x):\n",
        "    return x ** 2\n",
        "s1 = s.apply(squared)\n",
        "print(s1)\n",
        "\n",
        "# Definición anónima de la función\n",
        "s2 = s.apply(lambda x: x ** 2)\n",
        "print(s2)"
      ]
    },
    {
      "cell_type": "markdown",
      "id": "40e3a3db",
      "metadata": {
        "id": "40e3a3db"
      },
      "source": [
        "A continuación se muestra cómo aplicar funciones a un DataFrame, que puede hacerse por fila, por columna o por elementos, similar a las series:"
      ]
    },
    {
      "cell_type": "code",
      "execution_count": null,
      "id": "7c96f45d",
      "metadata": {
        "id": "7c96f45d",
        "outputId": "4b9bdb45-faff-45ed-8eed-be56fdaee59a"
      },
      "outputs": [
        {
          "name": "stdout",
          "output_type": "stream",
          "text": [
            "   A  B\n",
            "0  1  4\n",
            "1  4  5\n",
            "2  9  6\n",
            "   A   B\n",
            "0  1  16\n",
            "1  4   5\n",
            "2  9   6\n",
            "    A    B\n",
            "0   1  256\n",
            "1  16   25\n",
            "2  81   36\n"
          ]
        }
      ],
      "source": [
        "df = pd.DataFrame({\n",
        "    \"A\": [1, 2, 3],\n",
        "    \"B\": [4, 5, 6]\n",
        "})\n",
        "\n",
        "# Aplicar función a lo largo de una columna\n",
        "df[\"A\"] = df[\"A\"].apply(lambda x: x ** 2)\n",
        "print(df)\n",
        "\n",
        "# Aplicar función a lo largo de una fila\n",
        "df.loc[0] = df.loc[0].apply(lambda x: x ** 2)\n",
        "print(df)\n",
        "\n",
        "# Aplicar función a todos los elementos\n",
        "df = df.applymap(lambda x: x ** 2)\n",
        "print(df)"
      ]
    },
    {
      "cell_type": "markdown",
      "id": "3acb43c7",
      "metadata": {
        "id": "3acb43c7"
      },
      "source": [
        "`apply` es más flexible que otras funciones vectorizadas de Pandas, pero puede ser más lenta, especialmente cuando se aplica a grandes conjuntos de datos. Siempre es importante explorar las funciones incorporadas de Pandas o NumPy primero, ya que suelen ser más eficientes que las que podríamos llegar a implementar nosotros.\n",
        "\n",
        "Además, esta función puede devolver resultados de diferentes formas, dependiendo de la función aplicada y de cómo esté configurada."
      ]
    },
    {
      "cell_type": "markdown",
      "id": "a9f764b6",
      "metadata": {
        "id": "a9f764b6"
      },
      "source": [
        "## Ejercicios\n",
        "\n",
        "> Haz clic en Abrir en Colab, para poder realizar los ejercicios\n",
        "\n",
        "> Solución: https://github.com/4GeeksAcademy/machine-learning-prework/blob/main/03-pandas/03.1-Intro-to-Pandas_solutions.ipynb\n",
        "\n",
        "### Creación de series y DataFrames"
      ]
    },
    {
      "cell_type": "markdown",
      "id": "e3c20b3d",
      "metadata": {
        "id": "e3c20b3d"
      },
      "source": [
        "#### Ejercicio 01: Crea una serie a partir de una lista, de un array de NumPy y de un diccionario (★☆☆)\n",
        "\n",
        "> NOTA: Revisa la clase `pd.Series` (https://pandas.pydata.org/docs/reference/api/pandas.Series.html)"
      ]
    },
    {
      "cell_type": "code",
      "execution_count": 2,
      "id": "8a758bcf",
      "metadata": {
        "id": "8a758bcf",
        "outputId": "d692a0f0-3c7c-482a-c613-9e8938bd7430",
        "colab": {
          "base_uri": "https://localhost:8080/"
        }
      },
      "outputs": [
        {
          "output_type": "stream",
          "name": "stdout",
          "text": [
            "Serie desde array NumPy:\n",
            "0     60\n",
            "1     70\n",
            "2     80\n",
            "3     90\n",
            "4    100\n",
            "dtype: int64\n"
          ]
        }
      ],
      "source": [
        "import numpy as np\n",
        "import pandas as pd\n",
        "\n",
        "array_numpy = np.array([60, 70, 80, 90, 100])\n",
        "serie_desde_array_numpy = pd.Series(array_numpy)\n",
        "print(\"Serie desde array NumPy:\")\n",
        "print(serie_desde_array_numpy)\n",
        "\n"
      ]
    },
    {
      "cell_type": "markdown",
      "id": "cb8185b8",
      "metadata": {
        "id": "cb8185b8"
      },
      "source": [
        "#### Ejercicio 02: Crea un DataFrame a partir de un array de NumPy, de un diccionario y de una lista de tuplas (★☆☆)\n",
        "\n",
        "> NOTA: Revisa la clase `pd.DataFrame` (https://pandas.pydata.org/docs/reference/api/pandas.DataFrame.html)"
      ]
    },
    {
      "cell_type": "code",
      "source": [
        "import pandas as pd\n",
        "import numpy as np\n",
        "\n",
        "# array de NumPy\n",
        "array_numpy = np.array([[1, 2, 3], [4, 5, 6]])\n",
        "\n",
        "# array de NumPy en un DataFrame\n",
        "df_array = pd.DataFrame(array_numpy, columns=['Columna 1', 'Columna 2', 'Columna 3'])\n",
        "\n",
        "print(df_array)\n"
      ],
      "metadata": {
        "id": "Kj6aBQIopP1S",
        "outputId": "bfb6319a-f3ad-4e03-9e9c-e97518611e20",
        "colab": {
          "base_uri": "https://localhost:8080/"
        }
      },
      "id": "Kj6aBQIopP1S",
      "execution_count": 10,
      "outputs": [
        {
          "output_type": "stream",
          "name": "stdout",
          "text": [
            "   Columna 1  Columna 2  Columna 3\n",
            "0          1          2          3\n",
            "1          4          5          6\n"
          ]
        }
      ]
    },
    {
      "cell_type": "code",
      "source": [
        "# lista de tuplas\n",
        "lista_tuplas = [(1, 2, 3), (4, 5, 6)]\n",
        "\n",
        "# Convertir la lista de tuplas en un DataFrame\n",
        "df_tuplas = pd.DataFrame(lista_tuplas, columns=['Columna 1', 'Columna 2', 'Columna 3'])\n",
        "print(df_tuplas)"
      ],
      "metadata": {
        "id": "XFEcVJJrqFcK",
        "outputId": "7c4bd78c-759f-4666-e745-f0616f981251",
        "colab": {
          "base_uri": "https://localhost:8080/"
        }
      },
      "id": "XFEcVJJrqFcK",
      "execution_count": 14,
      "outputs": [
        {
          "output_type": "stream",
          "name": "stdout",
          "text": [
            "   Columna 1  Columna 2  Columna 3\n",
            "0          1          2          3\n",
            "1          4          5          6\n"
          ]
        }
      ]
    },
    {
      "cell_type": "code",
      "execution_count": 13,
      "id": "16cc6699",
      "metadata": {
        "cellView": "code",
        "id": "16cc6699",
        "outputId": "04b30cd1-3678-42ed-dcf6-28a4e195ba8a",
        "colab": {
          "base_uri": "https://localhost:8080/"
        }
      },
      "outputs": [
        {
          "output_type": "stream",
          "name": "stdout",
          "text": [
            "   Columna 1  Columna 2  Columna 3\n",
            "0          1          2          3\n",
            "1          4          5          6\n"
          ]
        }
      ],
      "source": [
        "\n",
        "diccionario = {'Columna 1': [1, 4], 'Columna 2': [2, 5], 'Columna 3': [3, 6]}\n",
        "\n",
        "# Convertir el diccionario en un DataFrame\n",
        "df_diccionario = pd.DataFrame(diccionario)\n",
        "print(df_diccionario)\n"
      ]
    },
    {
      "cell_type": "markdown",
      "id": "96424fb7",
      "metadata": {
        "id": "96424fb7"
      },
      "source": [
        "#### Ejercicio 03: Crea 2 series y utilízalas para construir un DataFrame (★☆☆)\n",
        "\n",
        "> NOTA: Revisa las funciones `pd.concat` (https://pandas.pydata.org/docs/reference/api/pandas.concat.html) y `pd.Series.to_frame` (https://pandas.pydata.org/docs/reference/api/pandas.Series.to_frame.html)"
      ]
    },
    {
      "cell_type": "code",
      "execution_count": 21,
      "id": "934e60d7",
      "metadata": {
        "id": "934e60d7",
        "outputId": "a051df8f-13d4-43f2-b4c6-7ac3c6ab9594",
        "colab": {
          "base_uri": "https://localhost:8080/"
        }
      },
      "outputs": [
        {
          "output_type": "stream",
          "name": "stdout",
          "text": [
            "DataFrame construido a partir de 2 series:\n",
            "   Unidades  Precio\n",
            "0         1      10\n",
            "1         2      20\n",
            "2         3      30\n",
            "3         4      40\n",
            "4         5       5\n"
          ]
        }
      ],
      "source": [
        "import pandas as pd\n",
        "\n",
        "serie1 = pd.Series([1, 2, 3, 4, 5], name=\"Unidades\")\n",
        "serie2 = pd.Series([10, 20, 30, 40, 5], name=\"Precio\")\n",
        "\n",
        "df = pd.DataFrame({serie1.name: serie1, serie2.name: serie2})\n",
        "\n",
        "print(\"DataFrame construido a partir de 2 series:\")\n",
        "print(df)\n"
      ]
    },
    {
      "cell_type": "markdown",
      "id": "8caafb43",
      "metadata": {
        "id": "8caafb43"
      },
      "source": [
        "### Filtrado y actualización"
      ]
    },
    {
      "cell_type": "markdown",
      "id": "1499a0a6",
      "metadata": {
        "id": "1499a0a6"
      },
      "source": [
        "#### Ejercicio 04: Utiliza las series creadas en el ejercicio anterior y selecciona las posiciones de los elementos de la primera serie que están en la segunda (★★☆)\n",
        "\n",
        "> NOTA: Revisa la función `pd.Series.isin` (https://pandas.pydata.org/docs/reference/api/pandas.Series.isin.html)"
      ]
    },
    {
      "cell_type": "code",
      "execution_count": 23,
      "id": "5683a253",
      "metadata": {
        "id": "5683a253",
        "outputId": "718eb80a-5a39-40b2-9664-21fe4e288a64",
        "colab": {
          "base_uri": "https://localhost:8080/"
        }
      },
      "outputs": [
        {
          "output_type": "stream",
          "name": "stdout",
          "text": [
            "Índices de los elementos de la serie1 que están en la serie2: Int64Index([4], dtype='int64')\n"
          ]
        }
      ],
      "source": [
        "import pandas as pd\n",
        "\n",
        "serie1 = pd.Series([1, 2, 3, 4, 5], name=\"Unidades\")\n",
        "serie2 = pd.Series([10, 20, 30, 40, 5], name=\"Precio\")\n",
        "\n",
        "coincidencias = serie1.isin(serie2)\n",
        "\n",
        "indices_coincidencias = coincidencias[coincidencias].index\n",
        "\n",
        "print(\"Índices de los elementos de la serie1 que están en la serie2:\", indices_coincidencias)\n"
      ]
    },
    {
      "cell_type": "markdown",
      "source": [],
      "metadata": {
        "id": "GhTbKCXqsuZa"
      },
      "id": "GhTbKCXqsuZa"
    },
    {
      "cell_type": "markdown",
      "source": [],
      "metadata": {
        "id": "V31hO9RksuzQ"
      },
      "id": "V31hO9RksuzQ"
    },
    {
      "cell_type": "markdown",
      "id": "4303b614",
      "metadata": {
        "id": "4303b614"
      },
      "source": [
        "#### Ejercicio 05: Utiliza las series creadas en el ejercicio 03 y lista los elementos no comunes entre ambas (★★☆)"
      ]
    },
    {
      "cell_type": "code",
      "execution_count": 26,
      "id": "477e01f4",
      "metadata": {
        "id": "477e01f4",
        "outputId": "ca7fb35c-569b-46e3-a0bb-fd325a2fe6b5",
        "colab": {
          "base_uri": "https://localhost:8080/"
        }
      },
      "outputs": [
        {
          "output_type": "stream",
          "name": "stdout",
          "text": [
            "Elementos no comunes entre ambas series:\n",
            "0     1\n",
            "1     2\n",
            "2     3\n",
            "3     4\n",
            "0    10\n",
            "1    20\n",
            "2    30\n",
            "3    40\n",
            "dtype: int64\n"
          ]
        }
      ],
      "source": [
        "import pandas as pd\n",
        "\n",
        "serie1 = pd.Series([1, 2, 3, 4, 5], name=\"Unidades\")\n",
        "serie2 = pd.Series([10, 20, 30, 40, 5], name=\"precio\")\n",
        "\n",
        "elementos_no_comunes_1 = serie1[~serie1.isin(serie2)]\n",
        "\n",
        "elementos_no_comunes_2 = serie2[~serie2.isin(serie1)]\n",
        "\n",
        "# Combinar ambos resultados para obtener una lista de elementos no comunes\n",
        "elementos_no_comunes = pd.concat([elementos_no_comunes_1, elementos_no_comunes_2])\n",
        "\n",
        "print(\"Elementos no comunes entre ambas series:\")\n",
        "print(elementos_no_comunes)\n"
      ]
    },
    {
      "cell_type": "markdown",
      "id": "4e7ad59c",
      "metadata": {
        "id": "4e7ad59c"
      },
      "source": [
        "#### Ejercicio 06: Crea un DataFrame de números aleatorios con 5 columnas y 10 filas y ordena una de sus columnas de menor a mayor (★★☆)\n",
        "\n",
        "> NOTA: Revisa la función `pd.DataFrame.sort_values` (https://pandas.pydata.org/docs/reference/api/pandas.DataFrame.sort_values.html)"
      ]
    },
    {
      "cell_type": "code",
      "execution_count": 35,
      "id": "82de9a71",
      "metadata": {
        "id": "82de9a71",
        "outputId": "6aa8d968-3ba6-4982-8a5d-ae578fb82756",
        "colab": {
          "base_uri": "https://localhost:8080/"
        }
      },
      "outputs": [
        {
          "output_type": "stream",
          "name": "stdout",
          "text": [
            "DataFrame ordenado por la columna 'C' de menor a mayor con números enteros:\n",
            "    A   B   C   D   E\n",
            "9  39  78   1  42  62\n",
            "3  21  51   5  32  48\n",
            "0  93  48  11  68  98\n",
            "8  12  36  28  75  80\n",
            "7  31  89  39  55  37\n",
            "4  15  41  43  58  47\n",
            "2  71  58  68  66  91\n",
            "5  18  57  80  80  25\n",
            "6  84  30  81  35   9\n",
            "1  85   5  94  93  37\n"
          ]
        }
      ],
      "source": [
        "import pandas as pd\n",
        "import numpy as np\n",
        "\n",
        "df = pd.DataFrame(np.random.randint(0, 100, size=(10, 5)), columns=['A', 'B', 'C', 'D', 'E'])\n",
        "\n",
        "df_ordenado = df.sort_values(by='C')\n",
        "\n",
        "print(\"DataFrame ordenado por la columna 'C' de menor a mayor con números enteros:\")\n",
        "print(df_ordenado)\n",
        "\n"
      ]
    },
    {
      "cell_type": "markdown",
      "id": "09f77d6a",
      "metadata": {
        "id": "09f77d6a"
      },
      "source": [
        "#### Ejercicio 07: Modifica el nombre de las 5 columnas del DataFrame anterior por el siguiente formato: `N_column` donde `N` es el número de la columna (★★☆)\n",
        "\n",
        "> NOTA: Revisa la función `pd.DataFrame.sort_values` (https://pandas.pydata.org/docs/reference/api/pandas.DataFrame.sort_values.html)"
      ]
    },
    {
      "cell_type": "code",
      "execution_count": 40,
      "id": "6c65fe4f",
      "metadata": {
        "id": "6c65fe4f",
        "outputId": "65c659b2-b515-43c7-8509-0f4438b54f4f",
        "colab": {
          "base_uri": "https://localhost:8080/"
        }
      },
      "outputs": [
        {
          "output_type": "stream",
          "name": "stdout",
          "text": [
            "DataFrame con nombres de columnas modificados después de ordenar:\n",
            "   1_column  2_column  3_column  4_column  5_column\n",
            "8         9        36        11        32        65\n",
            "6        17        99        72        13        79\n",
            "9        24        22        45         2        40\n",
            "7        34        87        50        73         1\n",
            "2        48         2        15        72        10\n",
            "0        77         1        33        10        58\n",
            "4        79        87        75        55        94\n",
            "5        91        79        64        21        38\n",
            "1        94         4        60        34        83\n",
            "3        95        29         6        16        71\n"
          ]
        }
      ],
      "source": [
        "import pandas as pd\n",
        "import numpy as np\n",
        "\n",
        "# Crear un DataFrame con números enteros aleatorios y ordenarlo por alguna columna, por ejemplo, la primera\n",
        "df = pd.DataFrame(np.random.randint(0, 100, size=(10, 5)), columns=['A', 'B', 'C', 'D', 'E'])\n",
        "df.sort_values(by='A', inplace=True)\n",
        "\n",
        "# Modificar el nombre de las columnas al formato N_column, donde N es el número de la columna\n",
        "df.columns = [f\"{i+1}_column\" for i in range(df.shape[1])]\n",
        "\n",
        "print(\"DataFrame con nombres de columnas modificados después de ordenar:\")\n",
        "print(df)\n",
        "\n",
        "\n"
      ]
    },
    {
      "cell_type": "markdown",
      "id": "c0e940f8",
      "metadata": {
        "id": "c0e940f8"
      },
      "source": [
        "#### Ejercicio 08: Modifica el índice de las filas del DataFrame del ejercicio 06 (★★☆)\n",
        "\n",
        "> NOTA: Revisa la función `pd.DataFrame.sort_values` (https://pandas.pydata.org/docs/reference/api/pandas.DataFrame.sort_values.html)"
      ]
    },
    {
      "cell_type": "code",
      "execution_count": 39,
      "id": "820dc7a5",
      "metadata": {
        "id": "820dc7a5",
        "outputId": "69b354e2-65e1-447e-e3e5-5e2e00f228f9",
        "colab": {
          "base_uri": "https://localhost:8080/"
        }
      },
      "outputs": [
        {
          "output_type": "stream",
          "name": "stdout",
          "text": [
            "DataFrame ordenado por la columna 'C' con índices de filas modificados:\n",
            "     A   B   C   D   E\n",
            "1   82  12   8  31  68\n",
            "2   56  42  18  56  98\n",
            "3    1  96  20  90  96\n",
            "4   80  24  21  98  69\n",
            "5   66  26  32  30  97\n",
            "6   42  39  39  35  35\n",
            "7   82  55  39  92  46\n",
            "8   35  34  66  60  57\n",
            "9   40   9  70  63   4\n",
            "10  72  98  89  44  79\n"
          ]
        }
      ],
      "source": [
        "import pandas as pd\n",
        "import numpy as np\n",
        "\n",
        "df = pd.DataFrame(np.random.randint(0, 100, size=(10, 5)), columns=['A', 'B', 'C', 'D', 'E'])\n",
        "df_ordenado = df.sort_values(by='C')\n",
        "\n",
        "# Modifico el índice de las filas para que comience en 1 en lugar de 0\n",
        "df_ordenado.index = range(1, len(df_ordenado) + 1)\n",
        "\n",
        "print(\"DataFrame ordenado por la columna 'C' con índices de filas modificados:\")\n",
        "print(df_ordenado)\n"
      ]
    }
  ],
  "metadata": {
    "kernelspec": {
      "display_name": "Python 3",
      "language": "python",
      "name": "python3"
    },
    "language_info": {
      "codemirror_mode": {
        "name": "ipython",
        "version": 3
      },
      "file_extension": ".py",
      "mimetype": "text/x-python",
      "name": "python",
      "nbconvert_exporter": "python",
      "pygments_lexer": "ipython3",
      "version": "3.11.4"
    },
    "colab": {
      "provenance": []
    }
  },
  "nbformat": 4,
  "nbformat_minor": 5
}